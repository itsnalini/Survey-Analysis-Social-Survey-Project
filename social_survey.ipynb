{
 "cells": [
  {
   "cell_type": "markdown",
   "metadata": {},
   "source": [
    "# SOCIAL SURVEY PROJECT"
   ]
  },
  {
   "cell_type": "code",
   "execution_count": 6,
   "metadata": {},
   "outputs": [],
   "source": [
    "import pandas as pd\n",
    "import seaborn as sns\n",
    "import pyreadstat\n",
    "from urllib import request\n",
    "from zipfile import ZipFile\n",
    "import requests"
   ]
  },
  {
   "cell_type": "markdown",
   "metadata": {},
   "source": [
    "#### Download the zip file for the social survey"
   ]
  },
  {
   "cell_type": "code",
   "execution_count": 9,
   "metadata": {},
   "outputs": [],
   "source": [
    "zip_url = 'http://gss.norc.org/Documents/stata/gss_stata_with_codebook.zip'\n",
    "response = requests.get(zip_url)"
   ]
  },
  {
   "cell_type": "code",
   "execution_count": 12,
   "metadata": {},
   "outputs": [],
   "source": [
    "if response.status_code == 200:\n",
    "    with open('gss_stata_with_codebook.zip', 'wb')  as file:\n",
    "        file.write(response.content)\n",
    "else:\n",
    "    print('Fail to download the file, HTTP status code: ', response.status_code)"
   ]
  },
  {
   "cell_type": "markdown",
   "metadata": {},
   "source": [
    "#### Unzip the file"
   ]
  },
  {
   "cell_type": "code",
   "execution_count": 15,
   "metadata": {},
   "outputs": [
    {
     "name": "stdout",
     "output_type": "stream",
     "text": [
      "Release Notes 7218.pdf   -        296,746 Bytes\n",
      "GSS_Codebook.pdf         -     37,952,897 Bytes\n",
      "GSS7218_R3.DTA           -    449,140,819 Bytes\n"
     ]
    }
   ],
   "source": [
    "with ZipFile('gss_stata_with_codebook.zip', mode= 'r') as zip:\n",
    "    zip.extractall()\n",
    "    for file in zip.infolist():\n",
    "        print(f'{file.filename:25}-{file.file_size:15,d} Bytes')"
   ]
  },
  {
   "cell_type": "markdown",
   "metadata": {},
   "source": [
    "#### Extract the metadata using the pyreadstat module"
   ]
  },
  {
   "cell_type": "code",
   "execution_count": 16,
   "metadata": {},
   "outputs": [
    {
     "name": "stdout",
     "output_type": "stream",
     "text": [
      "Number of columns:  6110\n",
      "Number of rows:  64814\n"
     ]
    }
   ],
   "source": [
    "gss_empty, gss_meta = pyreadstat.read_dta('GSS7218_R3.DTA', metadataonly= True)\n",
    "print('Number of columns: ', gss_meta.number_columns)\n",
    "print('Number of rows: ', gss_meta.number_rows)"
   ]
  },
  {
   "cell_type": "markdown",
   "metadata": {},
   "source": [
    "#### Build a DataFrame of column names and descriptions"
   ]
  },
  {
   "cell_type": "code",
   "execution_count": 17,
   "metadata": {},
   "outputs": [
    {
     "data": {
      "text/html": [
       "<div>\n",
       "<style scoped>\n",
       "    .dataframe tbody tr th:only-of-type {\n",
       "        vertical-align: middle;\n",
       "    }\n",
       "\n",
       "    .dataframe tbody tr th {\n",
       "        vertical-align: top;\n",
       "    }\n",
       "\n",
       "    .dataframe thead th {\n",
       "        text-align: right;\n",
       "    }\n",
       "</style>\n",
       "<table border=\"1\" class=\"dataframe\">\n",
       "  <thead>\n",
       "    <tr style=\"text-align: right;\">\n",
       "      <th></th>\n",
       "      <th>description</th>\n",
       "    </tr>\n",
       "  </thead>\n",
       "  <tbody>\n",
       "    <tr>\n",
       "      <th>year</th>\n",
       "      <td>gss year for this respondent</td>\n",
       "    </tr>\n",
       "    <tr>\n",
       "      <th>id</th>\n",
       "      <td>respondent id number</td>\n",
       "    </tr>\n",
       "    <tr>\n",
       "      <th>wrkstat</th>\n",
       "      <td>labor force status</td>\n",
       "    </tr>\n",
       "    <tr>\n",
       "      <th>hrs1</th>\n",
       "      <td>number of hours worked last week</td>\n",
       "    </tr>\n",
       "    <tr>\n",
       "      <th>hrs2</th>\n",
       "      <td>number of hours usually work a week</td>\n",
       "    </tr>\n",
       "    <tr>\n",
       "      <th>...</th>\n",
       "      <td>...</td>\n",
       "    </tr>\n",
       "    <tr>\n",
       "      <th>wtss</th>\n",
       "      <td>weight variable</td>\n",
       "    </tr>\n",
       "    <tr>\n",
       "      <th>wtssnr</th>\n",
       "      <td>weight variable</td>\n",
       "    </tr>\n",
       "    <tr>\n",
       "      <th>wtssall</th>\n",
       "      <td>weight variable</td>\n",
       "    </tr>\n",
       "    <tr>\n",
       "      <th>vstrat</th>\n",
       "      <td>variance stratum</td>\n",
       "    </tr>\n",
       "    <tr>\n",
       "      <th>vpsu</th>\n",
       "      <td>variance primary sampling unit</td>\n",
       "    </tr>\n",
       "  </tbody>\n",
       "</table>\n",
       "<p>6110 rows × 1 columns</p>\n",
       "</div>"
      ],
      "text/plain": [
       "                                 description\n",
       "year            gss year for this respondent\n",
       "id                      respondent id number\n",
       "wrkstat                   labor force status\n",
       "hrs1        number of hours worked last week\n",
       "hrs2     number of hours usually work a week\n",
       "...                                      ...\n",
       "wtss                         weight variable\n",
       "wtssnr                       weight variable\n",
       "wtssall                      weight variable\n",
       "vstrat                      variance stratum\n",
       "vpsu          variance primary sampling unit\n",
       "\n",
       "[6110 rows x 1 columns]"
      ]
     },
     "execution_count": 17,
     "metadata": {},
     "output_type": "execute_result"
    }
   ],
   "source": [
    "meta_cols = pd.DataFrame(data=gss_meta.column_labels,\n",
    "                         index= gss_meta.column_names,\n",
    "                         columns=['description'])\n",
    "meta_cols"
   ]
  },
  {
   "cell_type": "markdown",
   "metadata": {},
   "source": [
    "#### Load the data for the wrkstat question into a DataFrame"
   ]
  },
  {
   "cell_type": "code",
   "execution_count": 18,
   "metadata": {},
   "outputs": [
    {
     "data": {
      "text/html": [
       "<div>\n",
       "<style scoped>\n",
       "    .dataframe tbody tr th:only-of-type {\n",
       "        vertical-align: middle;\n",
       "    }\n",
       "\n",
       "    .dataframe tbody tr th {\n",
       "        vertical-align: top;\n",
       "    }\n",
       "\n",
       "    .dataframe thead th {\n",
       "        text-align: right;\n",
       "    }\n",
       "</style>\n",
       "<table border=\"1\" class=\"dataframe\">\n",
       "  <thead>\n",
       "    <tr style=\"text-align: right;\">\n",
       "      <th></th>\n",
       "      <th>id</th>\n",
       "      <th>year</th>\n",
       "      <th>wrkstat</th>\n",
       "    </tr>\n",
       "  </thead>\n",
       "  <tbody>\n",
       "    <tr>\n",
       "      <th>0</th>\n",
       "      <td>1</td>\n",
       "      <td>1972</td>\n",
       "      <td>working fulltime</td>\n",
       "    </tr>\n",
       "    <tr>\n",
       "      <th>1</th>\n",
       "      <td>2</td>\n",
       "      <td>1972</td>\n",
       "      <td>retired</td>\n",
       "    </tr>\n",
       "    <tr>\n",
       "      <th>2</th>\n",
       "      <td>3</td>\n",
       "      <td>1972</td>\n",
       "      <td>working parttime</td>\n",
       "    </tr>\n",
       "    <tr>\n",
       "      <th>3</th>\n",
       "      <td>4</td>\n",
       "      <td>1972</td>\n",
       "      <td>working fulltime</td>\n",
       "    </tr>\n",
       "    <tr>\n",
       "      <th>4</th>\n",
       "      <td>5</td>\n",
       "      <td>1972</td>\n",
       "      <td>keeping house</td>\n",
       "    </tr>\n",
       "  </tbody>\n",
       "</table>\n",
       "</div>"
      ],
      "text/plain": [
       "   id  year           wrkstat\n",
       "0   1  1972  working fulltime\n",
       "1   2  1972           retired\n",
       "2   3  1972  working parttime\n",
       "3   4  1972  working fulltime\n",
       "4   5  1972     keeping house"
      ]
     },
     "execution_count": 18,
     "metadata": {},
     "output_type": "execute_result"
    }
   ],
   "source": [
    "workStatus = pd.read_stata('GSS7218_R3.DTA', columns= ['id', 'year', 'wrkstat'])\n",
    "workStatus.head()"
   ]
  },
  {
   "cell_type": "markdown",
   "metadata": {},
   "source": [
    "## Prepare the data\n",
    "The first goal for the analysis of the wrkstat data is to identify when major changes in employment status has occured."
   ]
  },
  {
   "cell_type": "code",
   "execution_count": 19,
   "metadata": {},
   "outputs": [
    {
     "name": "stdout",
     "output_type": "stream",
     "text": [
      "<class 'pandas.core.frame.DataFrame'>\n",
      "RangeIndex: 64814 entries, 0 to 64813\n",
      "Data columns (total 3 columns):\n",
      " #   Column   Non-Null Count  Dtype   \n",
      "---  ------   --------------  -----   \n",
      " 0   id       64814 non-null  int16   \n",
      " 1   year     64814 non-null  int16   \n",
      " 2   wrkstat  64793 non-null  category\n",
      "dtypes: category(1), int16(2)\n",
      "memory usage: 317.0 KB\n"
     ]
    }
   ],
   "source": [
    "#View the data types of the columns\n",
    "workStatus.info()"
   ]
  },
  {
   "cell_type": "code",
   "execution_count": 20,
   "metadata": {},
   "outputs": [
    {
     "data": {
      "text/plain": [
       "wrkstat\n",
       "working fulltime    31892\n",
       "keeping house       10176\n",
       "retired              9121\n",
       "working parttime     6719\n",
       "unempl, laid off     2179\n",
       "school               1998\n",
       "temp not working     1363\n",
       "other                1345\n",
       "NaN                    21\n",
       "Name: count, dtype: int64"
      ]
     },
     "execution_count": 20,
     "metadata": {},
     "output_type": "execute_result"
    }
   ],
   "source": [
    "#Check the work status data for missing responses\n",
    "workStatus['wrkstat'].value_counts(dropna= False)"
   ]
  },
  {
   "cell_type": "markdown",
   "metadata": {},
   "source": [
    "As a result, there is only 21 missing values, so we can safely ignore the rows with those values since there are so few relative to the number of responses."
   ]
  },
  {
   "cell_type": "code",
   "execution_count": 21,
   "metadata": {},
   "outputs": [
    {
     "data": {
      "text/html": [
       "<div>\n",
       "<style scoped>\n",
       "    .dataframe tbody tr th:only-of-type {\n",
       "        vertical-align: middle;\n",
       "    }\n",
       "\n",
       "    .dataframe tbody tr th {\n",
       "        vertical-align: top;\n",
       "    }\n",
       "\n",
       "    .dataframe thead th {\n",
       "        text-align: right;\n",
       "    }\n",
       "</style>\n",
       "<table border=\"1\" class=\"dataframe\">\n",
       "  <thead>\n",
       "    <tr style=\"text-align: right;\">\n",
       "      <th></th>\n",
       "      <th>year</th>\n",
       "      <th>wrkstat</th>\n",
       "      <th>counts</th>\n",
       "    </tr>\n",
       "  </thead>\n",
       "  <tbody>\n",
       "    <tr>\n",
       "      <th>0</th>\n",
       "      <td>1972</td>\n",
       "      <td>working fulltime</td>\n",
       "      <td>750</td>\n",
       "    </tr>\n",
       "    <tr>\n",
       "      <th>1</th>\n",
       "      <td>1972</td>\n",
       "      <td>working parttime</td>\n",
       "      <td>121</td>\n",
       "    </tr>\n",
       "    <tr>\n",
       "      <th>2</th>\n",
       "      <td>1972</td>\n",
       "      <td>temp not working</td>\n",
       "      <td>38</td>\n",
       "    </tr>\n",
       "    <tr>\n",
       "      <th>3</th>\n",
       "      <td>1972</td>\n",
       "      <td>unempl, laid off</td>\n",
       "      <td>46</td>\n",
       "    </tr>\n",
       "    <tr>\n",
       "      <th>4</th>\n",
       "      <td>1972</td>\n",
       "      <td>retired</td>\n",
       "      <td>144</td>\n",
       "    </tr>\n",
       "  </tbody>\n",
       "</table>\n",
       "</div>"
      ],
      "text/plain": [
       "   year           wrkstat  counts\n",
       "0  1972  working fulltime     750\n",
       "1  1972  working parttime     121\n",
       "2  1972  temp not working      38\n",
       "3  1972  unempl, laid off      46\n",
       "4  1972           retired     144"
      ]
     },
     "execution_count": 21,
     "metadata": {},
     "output_type": "execute_result"
    }
   ],
   "source": [
    "#Add counts by year\n",
    "statusCounts = workStatus.groupby(by=['year', 'wrkstat'], as_index= False).count()\n",
    "statusCounts.columns = ['year', 'wrkstat', 'counts']\n",
    "statusCounts.head()"
   ]
  },
  {
   "cell_type": "markdown",
   "metadata": {},
   "source": [
    "### Plot the data and reduce the number of categories"
   ]
  },
  {
   "cell_type": "code",
   "execution_count": 22,
   "metadata": {},
   "outputs": [
    {
     "name": "stderr",
     "output_type": "stream",
     "text": [
      "/Library/Frameworks/Python.framework/Versions/3.11/lib/python3.11/site-packages/seaborn/axisgrid.py:118: UserWarning: The figure layout has changed to tight\n",
      "  self._figure.tight_layout(*args, **kwargs)\n"
     ]
    },
    {
     "data": {
      "text/plain": [
       "<seaborn.axisgrid.FacetGrid at 0x122debc10>"
      ]
     },
     "execution_count": 22,
     "metadata": {},
     "output_type": "execute_result"
    },
    {
     "data": {
      "image/png": "[encoded data removed]",
      "text/plain": [
       "<Figure size 673.125x500 with 1 Axes>"
      ]
     },
     "metadata": {},
     "output_type": "display_data"
    }
   ],
   "source": [
    "#Plot the wrkstat data\n",
    "sns.relplot(data= statusCounts, x= 'year', y='counts', hue = 'wrkstat', kind= 'line')"
   ]
  },
  {
   "cell_type": "markdown",
   "metadata": {},
   "source": [
    "As we can see, the plot lines at the bottom of the chart run together, so the plot is difficult to read. To fix the problem, we narrow down the data to just three or four of the categories.\n",
    "\n",
    "We will filter the data to just 4 categories: working fulltime, working parttime, retired, and umemployed or laid off."
   ]
  },
  {
   "cell_type": "code",
   "execution_count": 23,
   "metadata": {},
   "outputs": [],
   "source": [
    "#Reduce the number of plotted categories\n",
    "statusCountsTop = statusCounts.query(\n",
    "    'wrkstat in [\"working fulltime\", \"working parttime\", \"retired\", \"unempl, laid off\"]').copy()"
   ]
  },
  {
   "cell_type": "code",
   "execution_count": 30,
   "metadata": {},
   "outputs": [
    {
     "data": {
      "text/plain": [
       "wrkstat\n",
       "working fulltime    32\n",
       "working parttime    32\n",
       "unempl, laid off    32\n",
       "retired             32\n",
       "Name: count, dtype: int64"
      ]
     },
     "execution_count": 30,
     "metadata": {},
     "output_type": "execute_result"
    }
   ],
   "source": [
    "#The categories after filtering\n",
    "statusCountsTop.wrkstat.value_counts()"
   ]
  },
  {
   "cell_type": "code",
   "execution_count": 26,
   "metadata": {},
   "outputs": [
    {
     "data": {
      "text/plain": [
       "wrkstat\n",
       "working fulltime    32\n",
       "working parttime    32\n",
       "unempl, laid off    32\n",
       "retired             32\n",
       "Name: count, dtype: int64"
      ]
     },
     "execution_count": 26,
     "metadata": {},
     "output_type": "execute_result"
    }
   ],
   "source": [
    "#Remove unused categories\n",
    "statusCountsTop.wrkstat = statusCountsTop.wrkstat.cat.remove_unused_categories()\n",
    "statusCountsTop.wrkstat.value_counts()"
   ]
  },
  {
   "cell_type": "code",
   "execution_count": 33,
   "metadata": {},
   "outputs": [
    {
     "data": {
      "text/html": [
       "<div>\n",
       "<style scoped>\n",
       "    .dataframe tbody tr th:only-of-type {\n",
       "        vertical-align: middle;\n",
       "    }\n",
       "\n",
       "    .dataframe tbody tr th {\n",
       "        vertical-align: top;\n",
       "    }\n",
       "\n",
       "    .dataframe thead th {\n",
       "        text-align: right;\n",
       "    }\n",
       "</style>\n",
       "<table border=\"1\" class=\"dataframe\">\n",
       "  <thead>\n",
       "    <tr style=\"text-align: right;\">\n",
       "      <th></th>\n",
       "      <th>year</th>\n",
       "      <th>wrkstat</th>\n",
       "      <th>counts</th>\n",
       "    </tr>\n",
       "  </thead>\n",
       "  <tbody>\n",
       "    <tr>\n",
       "      <th>0</th>\n",
       "      <td>1972</td>\n",
       "      <td>working fulltime</td>\n",
       "      <td>750</td>\n",
       "    </tr>\n",
       "    <tr>\n",
       "      <th>1</th>\n",
       "      <td>1972</td>\n",
       "      <td>working parttime</td>\n",
       "      <td>121</td>\n",
       "    </tr>\n",
       "    <tr>\n",
       "      <th>3</th>\n",
       "      <td>1972</td>\n",
       "      <td>unempl, laid off</td>\n",
       "      <td>46</td>\n",
       "    </tr>\n",
       "    <tr>\n",
       "      <th>4</th>\n",
       "      <td>1972</td>\n",
       "      <td>retired</td>\n",
       "      <td>144</td>\n",
       "    </tr>\n",
       "    <tr>\n",
       "      <th>8</th>\n",
       "      <td>1973</td>\n",
       "      <td>working fulltime</td>\n",
       "      <td>651</td>\n",
       "    </tr>\n",
       "  </tbody>\n",
       "</table>\n",
       "</div>"
      ],
      "text/plain": [
       "   year           wrkstat  counts\n",
       "0  1972  working fulltime     750\n",
       "1  1972  working parttime     121\n",
       "3  1972  unempl, laid off      46\n",
       "4  1972           retired     144\n",
       "8  1973  working fulltime     651"
      ]
     },
     "execution_count": 33,
     "metadata": {},
     "output_type": "execute_result"
    }
   ],
   "source": [
    "statusCountsTop.head()"
   ]
  },
  {
   "cell_type": "markdown",
   "metadata": {},
   "source": [
    "#### Plot the total counts of the responses"
   ]
  },
  {
   "cell_type": "markdown",
   "metadata": {},
   "source": [
    "When the surveys are repeated year after year, the number of yearly responses often fluctuates, which can cause problem if the trendlines represent the change in the total count more than the change in the ratio between the responses. One way to confirm this suspicion is to plot the total counts of the responses by year"
   ]
  },
  {
   "cell_type": "code",
   "execution_count": 35,
   "metadata": {},
   "outputs": [
    {
     "data": {
      "text/html": [
       "<div>\n",
       "<style scoped>\n",
       "    .dataframe tbody tr th:only-of-type {\n",
       "        vertical-align: middle;\n",
       "    }\n",
       "\n",
       "    .dataframe tbody tr th {\n",
       "        vertical-align: top;\n",
       "    }\n",
       "\n",
       "    .dataframe thead th {\n",
       "        text-align: right;\n",
       "    }\n",
       "</style>\n",
       "<table border=\"1\" class=\"dataframe\">\n",
       "  <thead>\n",
       "    <tr style=\"text-align: right;\">\n",
       "      <th></th>\n",
       "      <th>year</th>\n",
       "      <th>counts</th>\n",
       "    </tr>\n",
       "  </thead>\n",
       "  <tbody>\n",
       "    <tr>\n",
       "      <th>0</th>\n",
       "      <td>1972</td>\n",
       "      <td>1061</td>\n",
       "    </tr>\n",
       "    <tr>\n",
       "      <th>1</th>\n",
       "      <td>1973</td>\n",
       "      <td>974</td>\n",
       "    </tr>\n",
       "    <tr>\n",
       "      <th>2</th>\n",
       "      <td>1974</td>\n",
       "      <td>964</td>\n",
       "    </tr>\n",
       "    <tr>\n",
       "      <th>3</th>\n",
       "      <td>1975</td>\n",
       "      <td>993</td>\n",
       "    </tr>\n",
       "    <tr>\n",
       "      <th>4</th>\n",
       "      <td>1976</td>\n",
       "      <td>989</td>\n",
       "    </tr>\n",
       "  </tbody>\n",
       "</table>\n",
       "</div>"
      ],
      "text/plain": [
       "   year  counts\n",
       "0  1972    1061\n",
       "1  1973     974\n",
       "2  1974     964\n",
       "3  1975     993\n",
       "4  1976     989"
      ]
     },
     "execution_count": 35,
     "metadata": {},
     "output_type": "execute_result"
    }
   ],
   "source": [
    "#Count the total number of responses by year\n",
    "topCountsByYear = statusCountsTop.groupby(by= ['year'], as_index= False)['counts'].sum()\n",
    "topCountsByYear.head()"
   ]
  },
  {
   "cell_type": "code",
   "execution_count": 41,
   "metadata": {},
   "outputs": [
    {
     "data": {
      "text/html": [
       "<div>\n",
       "<style scoped>\n",
       "    .dataframe tbody tr th:only-of-type {\n",
       "        vertical-align: middle;\n",
       "    }\n",
       "\n",
       "    .dataframe tbody tr th {\n",
       "        vertical-align: top;\n",
       "    }\n",
       "\n",
       "    .dataframe thead th {\n",
       "        text-align: right;\n",
       "    }\n",
       "</style>\n",
       "<table border=\"1\" class=\"dataframe\">\n",
       "  <thead>\n",
       "    <tr style=\"text-align: right;\">\n",
       "      <th></th>\n",
       "      <th>year</th>\n",
       "      <th>wrkstat</th>\n",
       "      <th>counts</th>\n",
       "      <th>countsTotal</th>\n",
       "    </tr>\n",
       "  </thead>\n",
       "  <tbody>\n",
       "    <tr>\n",
       "      <th>0</th>\n",
       "      <td>1972</td>\n",
       "      <td>working fulltime</td>\n",
       "      <td>750</td>\n",
       "      <td>1061</td>\n",
       "    </tr>\n",
       "    <tr>\n",
       "      <th>1</th>\n",
       "      <td>1972</td>\n",
       "      <td>working parttime</td>\n",
       "      <td>121</td>\n",
       "      <td>1061</td>\n",
       "    </tr>\n",
       "    <tr>\n",
       "      <th>2</th>\n",
       "      <td>1972</td>\n",
       "      <td>unempl, laid off</td>\n",
       "      <td>46</td>\n",
       "      <td>1061</td>\n",
       "    </tr>\n",
       "    <tr>\n",
       "      <th>3</th>\n",
       "      <td>1972</td>\n",
       "      <td>retired</td>\n",
       "      <td>144</td>\n",
       "      <td>1061</td>\n",
       "    </tr>\n",
       "    <tr>\n",
       "      <th>4</th>\n",
       "      <td>1973</td>\n",
       "      <td>working fulltime</td>\n",
       "      <td>651</td>\n",
       "      <td>974</td>\n",
       "    </tr>\n",
       "    <tr>\n",
       "      <th>5</th>\n",
       "      <td>1973</td>\n",
       "      <td>working parttime</td>\n",
       "      <td>134</td>\n",
       "      <td>974</td>\n",
       "    </tr>\n",
       "    <tr>\n",
       "      <th>6</th>\n",
       "      <td>1973</td>\n",
       "      <td>unempl, laid off</td>\n",
       "      <td>35</td>\n",
       "      <td>974</td>\n",
       "    </tr>\n",
       "    <tr>\n",
       "      <th>7</th>\n",
       "      <td>1973</td>\n",
       "      <td>retired</td>\n",
       "      <td>154</td>\n",
       "      <td>974</td>\n",
       "    </tr>\n",
       "    <tr>\n",
       "      <th>8</th>\n",
       "      <td>1974</td>\n",
       "      <td>working fulltime</td>\n",
       "      <td>635</td>\n",
       "      <td>964</td>\n",
       "    </tr>\n",
       "    <tr>\n",
       "      <th>9</th>\n",
       "      <td>1974</td>\n",
       "      <td>working parttime</td>\n",
       "      <td>108</td>\n",
       "      <td>964</td>\n",
       "    </tr>\n",
       "    <tr>\n",
       "      <th>10</th>\n",
       "      <td>1974</td>\n",
       "      <td>unempl, laid off</td>\n",
       "      <td>54</td>\n",
       "      <td>964</td>\n",
       "    </tr>\n",
       "    <tr>\n",
       "      <th>11</th>\n",
       "      <td>1974</td>\n",
       "      <td>retired</td>\n",
       "      <td>167</td>\n",
       "      <td>964</td>\n",
       "    </tr>\n",
       "    <tr>\n",
       "      <th>12</th>\n",
       "      <td>1975</td>\n",
       "      <td>working fulltime</td>\n",
       "      <td>622</td>\n",
       "      <td>993</td>\n",
       "    </tr>\n",
       "    <tr>\n",
       "      <th>13</th>\n",
       "      <td>1975</td>\n",
       "      <td>working parttime</td>\n",
       "      <td>145</td>\n",
       "      <td>993</td>\n",
       "    </tr>\n",
       "    <tr>\n",
       "      <th>14</th>\n",
       "      <td>1975</td>\n",
       "      <td>unempl, laid off</td>\n",
       "      <td>61</td>\n",
       "      <td>993</td>\n",
       "    </tr>\n",
       "    <tr>\n",
       "      <th>15</th>\n",
       "      <td>1975</td>\n",
       "      <td>retired</td>\n",
       "      <td>165</td>\n",
       "      <td>993</td>\n",
       "    </tr>\n",
       "    <tr>\n",
       "      <th>16</th>\n",
       "      <td>1976</td>\n",
       "      <td>working fulltime</td>\n",
       "      <td>619</td>\n",
       "      <td>989</td>\n",
       "    </tr>\n",
       "    <tr>\n",
       "      <th>17</th>\n",
       "      <td>1976</td>\n",
       "      <td>working parttime</td>\n",
       "      <td>131</td>\n",
       "      <td>989</td>\n",
       "    </tr>\n",
       "    <tr>\n",
       "      <th>18</th>\n",
       "      <td>1976</td>\n",
       "      <td>unempl, laid off</td>\n",
       "      <td>63</td>\n",
       "      <td>989</td>\n",
       "    </tr>\n",
       "    <tr>\n",
       "      <th>19</th>\n",
       "      <td>1976</td>\n",
       "      <td>retired</td>\n",
       "      <td>176</td>\n",
       "      <td>989</td>\n",
       "    </tr>\n",
       "  </tbody>\n",
       "</table>\n",
       "</div>"
      ],
      "text/plain": [
       "    year           wrkstat  counts  countsTotal\n",
       "0   1972  working fulltime     750         1061\n",
       "1   1972  working parttime     121         1061\n",
       "2   1972  unempl, laid off      46         1061\n",
       "3   1972           retired     144         1061\n",
       "4   1973  working fulltime     651          974\n",
       "5   1973  working parttime     134          974\n",
       "6   1973  unempl, laid off      35          974\n",
       "7   1973           retired     154          974\n",
       "8   1974  working fulltime     635          964\n",
       "9   1974  working parttime     108          964\n",
       "10  1974  unempl, laid off      54          964\n",
       "11  1974           retired     167          964\n",
       "12  1975  working fulltime     622          993\n",
       "13  1975  working parttime     145          993\n",
       "14  1975  unempl, laid off      61          993\n",
       "15  1975           retired     165          993\n",
       "16  1976  working fulltime     619          989\n",
       "17  1976  working parttime     131          989\n",
       "18  1976  unempl, laid off      63          989\n",
       "19  1976           retired     176          989"
      ]
     },
     "execution_count": 41,
     "metadata": {},
     "output_type": "execute_result"
    }
   ],
   "source": [
    "#Merge the topCountsByYear df with the topCounts df\n",
    "topCounts = statusCountsTop.merge(topCountsByYear, on = 'year', suffixes= ('', 'Total'))\n",
    "topCounts.head(20)"
   ]
  },
  {
   "cell_type": "code",
   "execution_count": 40,
   "metadata": {},
   "outputs": [
    {
     "name": "stderr",
     "output_type": "stream",
     "text": [
      "/Library/Frameworks/Python.framework/Versions/3.11/lib/python3.11/site-packages/seaborn/axisgrid.py:118: UserWarning: The figure layout has changed to tight\n",
      "  self._figure.tight_layout(*args, **kwargs)\n"
     ]
    },
    {
     "data": {
      "text/plain": [
       "<seaborn.axisgrid.FacetGrid at 0x124be5f50>"
      ]
     },
     "execution_count": 40,
     "metadata": {},
     "output_type": "execute_result"
    },
    {
     "data": {
      "image/png": "[encoded data removed]",
      "text/plain": [
       "<Figure size 669.75x500 with 1 Axes>"
      ]
     },
     "metadata": {},
     "output_type": "display_data"
    }
   ],
   "source": [
    "#Plot the data\n",
    "sns.relplot(data = topCounts, x = 'year', y = 'countsTotal', hue = 'wrkstat', kind= 'line')"
   ]
  },
  {
   "cell_type": "markdown",
   "metadata": {},
   "source": [
    "As a result, the line of all four categories colapsed because they are all the same. This mean that the trends of the lines in figure 14-4 are due more to the changes in the total number of respondents than to the changes in the responses to the question."
   ]
  },
  {
   "cell_type": "markdown",
   "metadata": {},
   "source": [
    "#### Convert the counts to percents and plot them"
   ]
  },
  {
   "cell_type": "code",
   "execution_count": 38,
   "metadata": {},
   "outputs": [
    {
     "data": {
      "text/html": [
       "<div>\n",
       "<style scoped>\n",
       "    .dataframe tbody tr th:only-of-type {\n",
       "        vertical-align: middle;\n",
       "    }\n",
       "\n",
       "    .dataframe tbody tr th {\n",
       "        vertical-align: top;\n",
       "    }\n",
       "\n",
       "    .dataframe thead th {\n",
       "        text-align: right;\n",
       "    }\n",
       "</style>\n",
       "<table border=\"1\" class=\"dataframe\">\n",
       "  <thead>\n",
       "    <tr style=\"text-align: right;\">\n",
       "      <th></th>\n",
       "      <th>year</th>\n",
       "      <th>wrkstat</th>\n",
       "      <th>counts</th>\n",
       "      <th>countsTotal</th>\n",
       "      <th>percent</th>\n",
       "    </tr>\n",
       "  </thead>\n",
       "  <tbody>\n",
       "    <tr>\n",
       "      <th>0</th>\n",
       "      <td>1972</td>\n",
       "      <td>working fulltime</td>\n",
       "      <td>750</td>\n",
       "      <td>1061</td>\n",
       "      <td>0.706880</td>\n",
       "    </tr>\n",
       "    <tr>\n",
       "      <th>1</th>\n",
       "      <td>1972</td>\n",
       "      <td>working parttime</td>\n",
       "      <td>121</td>\n",
       "      <td>1061</td>\n",
       "      <td>0.114043</td>\n",
       "    </tr>\n",
       "    <tr>\n",
       "      <th>2</th>\n",
       "      <td>1972</td>\n",
       "      <td>unempl, laid off</td>\n",
       "      <td>46</td>\n",
       "      <td>1061</td>\n",
       "      <td>0.043355</td>\n",
       "    </tr>\n",
       "    <tr>\n",
       "      <th>3</th>\n",
       "      <td>1972</td>\n",
       "      <td>retired</td>\n",
       "      <td>144</td>\n",
       "      <td>1061</td>\n",
       "      <td>0.135721</td>\n",
       "    </tr>\n",
       "    <tr>\n",
       "      <th>4</th>\n",
       "      <td>1973</td>\n",
       "      <td>working fulltime</td>\n",
       "      <td>651</td>\n",
       "      <td>974</td>\n",
       "      <td>0.668378</td>\n",
       "    </tr>\n",
       "  </tbody>\n",
       "</table>\n",
       "</div>"
      ],
      "text/plain": [
       "   year           wrkstat  counts  countsTotal   percent\n",
       "0  1972  working fulltime     750         1061  0.706880\n",
       "1  1972  working parttime     121         1061  0.114043\n",
       "2  1972  unempl, laid off      46         1061  0.043355\n",
       "3  1972           retired     144         1061  0.135721\n",
       "4  1973  working fulltime     651          974  0.668378"
      ]
     },
     "execution_count": 38,
     "metadata": {},
     "output_type": "execute_result"
    }
   ],
   "source": [
    "#Convert each measurement to a percentage of the total\n",
    "topCounts['percent'] = topCounts.counts / topCounts.countsTotal\n",
    "topCounts.head()"
   ]
  },
  {
   "cell_type": "code",
   "execution_count": 39,
   "metadata": {},
   "outputs": [
    {
     "name": "stderr",
     "output_type": "stream",
     "text": [
      "/Library/Frameworks/Python.framework/Versions/3.11/lib/python3.11/site-packages/seaborn/axisgrid.py:118: UserWarning: The figure layout has changed to tight\n",
      "  self._figure.tight_layout(*args, **kwargs)\n"
     ]
    },
    {
     "data": {
      "text/plain": [
       "<seaborn.axisgrid.FacetGrid at 0x1259a57d0>"
      ]
     },
     "execution_count": 39,
     "metadata": {},
     "output_type": "execute_result"
    },
    {
     "data": {
      "image/png": "[encoded data removed]",
      "text/plain": [
       "<Figure size 669.75x500 with 1 Axes>"
      ]
     },
     "metadata": {},
     "output_type": "display_data"
    }
   ],
   "source": [
    "#Plot the percentage data\n",
    "sns.relplot(data = topCounts, x = 'year', y = 'percent', kind = 'line', hue = 'wrkstat', palette= 'colorblind')"
   ]
  },
  {
   "cell_type": "markdown",
   "metadata": {},
   "source": [
    "The lines plot the percentage instead of the counts. As a results, the new plot accurately identifies some trends. First, the percent of people working full-time has been declining. Second, the percent of retired people has been rising. Third, the percent of people who are unemployed, laid off, or working part-time has stayed about the same."
   ]
  },
  {
   "cell_type": "markdown",
   "metadata": {},
   "source": [
    "## The work-life balance data"
   ]
  },
  {
   "cell_type": "markdown",
   "metadata": {},
   "source": [
    "#### Read and review the work-life data"
   ]
  },
  {
   "cell_type": "code",
   "execution_count": 42,
   "metadata": {},
   "outputs": [
    {
     "data": {
      "text/html": [
       "<div>\n",
       "<style scoped>\n",
       "    .dataframe tbody tr th:only-of-type {\n",
       "        vertical-align: middle;\n",
       "    }\n",
       "\n",
       "    .dataframe tbody tr th {\n",
       "        vertical-align: top;\n",
       "    }\n",
       "\n",
       "    .dataframe thead th {\n",
       "        text-align: right;\n",
       "    }\n",
       "</style>\n",
       "<table border=\"1\" class=\"dataframe\">\n",
       "  <thead>\n",
       "    <tr style=\"text-align: right;\">\n",
       "      <th></th>\n",
       "      <th>wkcontct</th>\n",
       "      <th>talkspvs</th>\n",
       "      <th>effctsup</th>\n",
       "    </tr>\n",
       "  </thead>\n",
       "  <tbody>\n",
       "    <tr>\n",
       "      <th>57062</th>\n",
       "      <td>once or twice a month</td>\n",
       "      <td>very</td>\n",
       "      <td>very</td>\n",
       "    </tr>\n",
       "    <tr>\n",
       "      <th>57064</th>\n",
       "      <td>never</td>\n",
       "      <td>very</td>\n",
       "      <td>very</td>\n",
       "    </tr>\n",
       "    <tr>\n",
       "      <th>57074</th>\n",
       "      <td>never</td>\n",
       "      <td>very</td>\n",
       "      <td>somewhat</td>\n",
       "    </tr>\n",
       "    <tr>\n",
       "      <th>57079</th>\n",
       "      <td>never</td>\n",
       "      <td>somewhat</td>\n",
       "      <td>very</td>\n",
       "    </tr>\n",
       "    <tr>\n",
       "      <th>57081</th>\n",
       "      <td>never</td>\n",
       "      <td>very</td>\n",
       "      <td>very</td>\n",
       "    </tr>\n",
       "    <tr>\n",
       "      <th>...</th>\n",
       "      <td>...</td>\n",
       "      <td>...</td>\n",
       "      <td>...</td>\n",
       "    </tr>\n",
       "    <tr>\n",
       "      <th>59591</th>\n",
       "      <td>once or twice a month</td>\n",
       "      <td>somewhat</td>\n",
       "      <td>somewhat</td>\n",
       "    </tr>\n",
       "    <tr>\n",
       "      <th>59595</th>\n",
       "      <td>less than once a month</td>\n",
       "      <td>very</td>\n",
       "      <td>very</td>\n",
       "    </tr>\n",
       "    <tr>\n",
       "      <th>59596</th>\n",
       "      <td>never</td>\n",
       "      <td>somewhat</td>\n",
       "      <td>somewhat</td>\n",
       "    </tr>\n",
       "    <tr>\n",
       "      <th>59597</th>\n",
       "      <td>once or twice a month</td>\n",
       "      <td>a little</td>\n",
       "      <td>somewhat</td>\n",
       "    </tr>\n",
       "    <tr>\n",
       "      <th>59598</th>\n",
       "      <td>never</td>\n",
       "      <td>extremely</td>\n",
       "      <td>very</td>\n",
       "    </tr>\n",
       "  </tbody>\n",
       "</table>\n",
       "<p>1000 rows × 3 columns</p>\n",
       "</div>"
      ],
      "text/plain": [
       "                     wkcontct   talkspvs  effctsup\n",
       "57062   once or twice a month       very      very\n",
       "57064                   never       very      very\n",
       "57074                   never       very  somewhat\n",
       "57079                   never   somewhat      very\n",
       "57081                   never       very      very\n",
       "...                       ...        ...       ...\n",
       "59591   once or twice a month   somewhat  somewhat\n",
       "59595  less than once a month       very      very\n",
       "59596                   never   somewhat  somewhat\n",
       "59597   once or twice a month   a little  somewhat\n",
       "59598                   never  extremely      very\n",
       "\n",
       "[1000 rows x 3 columns]"
      ]
     },
     "execution_count": 42,
     "metadata": {},
     "output_type": "execute_result"
    }
   ],
   "source": [
    "#Read the work-life balance data\n",
    "wlBalanceCols = ['wkcontct', 'talkspvs', 'effctsup']\n",
    "wlBalance = pd.read_stata('GSS7218_R3.DTA', columns= wlBalanceCols).dropna()\n",
    "wlBalance"
   ]
  },
  {
   "cell_type": "code",
   "execution_count": 44,
   "metadata": {},
   "outputs": [
    {
     "data": {
      "text/plain": [
       "wkcontct\n",
       "never                      329\n",
       "less than once a month     187\n",
       "once or twice a month      170\n",
       "several times a week       145\n",
       "once a week                 98\n",
       "two or more times a day     42\n",
       "once a day                  29\n",
       "Name: count, dtype: int64"
      ]
     },
     "execution_count": 44,
     "metadata": {},
     "output_type": "execute_result"
    }
   ],
   "source": [
    "#Identify the response values for each question\n",
    "wlBalance.wkcontct.value_counts()"
   ]
  },
  {
   "cell_type": "code",
   "execution_count": 46,
   "metadata": {},
   "outputs": [
    {
     "data": {
      "text/plain": [
       "talkspvs\n",
       "very                      333\n",
       "somewhat                  259\n",
       "extremely                 165\n",
       "not at all comfortable    127\n",
       "a little                  116\n",
       "Name: count, dtype: int64"
      ]
     },
     "execution_count": 46,
     "metadata": {},
     "output_type": "execute_result"
    }
   ],
   "source": [
    "wlBalance.talkspvs.value_counts()"
   ]
  },
  {
   "cell_type": "code",
   "execution_count": 47,
   "metadata": {},
   "outputs": [
    {
     "data": {
      "text/plain": [
       "effctsup\n",
       "very                    338\n",
       "somewhat                287\n",
       "a little                158\n",
       "extremely               125\n",
       "not at all effective     92\n",
       "Name: count, dtype: int64"
      ]
     },
     "execution_count": 47,
     "metadata": {},
     "output_type": "execute_result"
    }
   ],
   "source": [
    "wlBalance.effctsup.value_counts()"
   ]
  },
  {
   "cell_type": "markdown",
   "metadata": {},
   "source": [
    "#### Plot the responses for the first question"
   ]
  },
  {
   "cell_type": "code",
   "execution_count": 48,
   "metadata": {},
   "outputs": [
    {
     "data": {
      "text/html": [
       "<div>\n",
       "<style scoped>\n",
       "    .dataframe tbody tr th:only-of-type {\n",
       "        vertical-align: middle;\n",
       "    }\n",
       "\n",
       "    .dataframe tbody tr th {\n",
       "        vertical-align: top;\n",
       "    }\n",
       "\n",
       "    .dataframe thead th {\n",
       "        text-align: right;\n",
       "    }\n",
       "</style>\n",
       "<table border=\"1\" class=\"dataframe\">\n",
       "  <thead>\n",
       "    <tr style=\"text-align: right;\">\n",
       "      <th></th>\n",
       "      <th>answer</th>\n",
       "      <th>count</th>\n",
       "    </tr>\n",
       "  </thead>\n",
       "  <tbody>\n",
       "    <tr>\n",
       "      <th>0</th>\n",
       "      <td>never</td>\n",
       "      <td>329</td>\n",
       "    </tr>\n",
       "    <tr>\n",
       "      <th>1</th>\n",
       "      <td>less than once a month</td>\n",
       "      <td>187</td>\n",
       "    </tr>\n",
       "    <tr>\n",
       "      <th>2</th>\n",
       "      <td>once or twice a month</td>\n",
       "      <td>170</td>\n",
       "    </tr>\n",
       "    <tr>\n",
       "      <th>3</th>\n",
       "      <td>several times a week</td>\n",
       "      <td>145</td>\n",
       "    </tr>\n",
       "    <tr>\n",
       "      <th>4</th>\n",
       "      <td>once a week</td>\n",
       "      <td>98</td>\n",
       "    </tr>\n",
       "    <tr>\n",
       "      <th>5</th>\n",
       "      <td>two or more times a day</td>\n",
       "      <td>42</td>\n",
       "    </tr>\n",
       "    <tr>\n",
       "      <th>6</th>\n",
       "      <td>once a day</td>\n",
       "      <td>29</td>\n",
       "    </tr>\n",
       "  </tbody>\n",
       "</table>\n",
       "</div>"
      ],
      "text/plain": [
       "                    answer  count\n",
       "0                    never    329\n",
       "1   less than once a month    187\n",
       "2    once or twice a month    170\n",
       "3     several times a week    145\n",
       "4              once a week     98\n",
       "5  two or more times a day     42\n",
       "6               once a day     29"
      ]
     },
     "execution_count": 48,
     "metadata": {},
     "output_type": "execute_result"
    }
   ],
   "source": [
    "#Prepare the data for the wkcontct question\n",
    "workContact = wlBalance.wkcontct.value_counts().to_frame().reset_index()\n",
    "workContact.columns = ['answer', 'count']\n",
    "workContact"
   ]
  },
  {
   "cell_type": "code",
   "execution_count": 50,
   "metadata": {},
   "outputs": [
    {
     "name": "stderr",
     "output_type": "stream",
     "text": [
      "/Library/Frameworks/Python.framework/Versions/3.11/lib/python3.11/site-packages/seaborn/axisgrid.py:118: UserWarning: The figure layout has changed to tight\n",
      "  self._figure.tight_layout(*args, **kwargs)\n"
     ]
    },
    {
     "data": {
      "text/plain": [
       "<seaborn.axisgrid.FacetGrid at 0x125eeabd0>"
      ]
     },
     "execution_count": 50,
     "metadata": {},
     "output_type": "execute_result"
    },
    {
     "data": {
      "image/png": "[encoded data removed]",
      "text/plain": [
       "<Figure size 625x500 with 1 Axes>"
      ]
     },
     "metadata": {},
     "output_type": "display_data"
    }
   ],
   "source": [
    "#Plot the data for the wkcontct question\n",
    "g = sns.catplot(data= workContact, x= 'count', y = 'answer',\n",
    "                kind = 'bar', orient= 'h', aspect= 1.25)\n",
    "g.set(title = \"How often are you contacted about work\\n\" +\n",
    "                \"when you aren't on the job?\")"
   ]
  },
  {
   "cell_type": "markdown",
   "metadata": {},
   "source": [
    "As a result, a relatively low number of people are contacted about work more than once a week when they aren't on the job."
   ]
  },
  {
   "cell_type": "markdown",
   "metadata": {},
   "source": [
    "Note: Since both the talkspvs and effctsup columns have 5 category values that are almost the same, these column can be plot together. We have to plot the wkcontct column on its own since its category values are different.\n",
    "\n"
   ]
  },
  {
   "cell_type": "markdown",
   "metadata": {},
   "source": [
    "#### Plot the responses for the second and third question"
   ]
  },
  {
   "cell_type": "code",
   "execution_count": 51,
   "metadata": {},
   "outputs": [],
   "source": [
    "#Prepare the data for plotting\n",
    "#Create DataFrames for the second and third questions\n",
    "df1 = wlBalance.talkspvs.value_counts().to_frame()\n",
    "df1 = df1.rename(index={'not at all comfortable': 'not at all'})\n",
    "\n",
    "df2 = wlBalance.effctsup.value_counts().to_frame()\n",
    "df2 = df2.rename(index= {'not at all effective': 'not at all'})"
   ]
  },
  {
   "cell_type": "code",
   "execution_count": 54,
   "metadata": {},
   "outputs": [
    {
     "data": {
      "text/html": [
       "<div>\n",
       "<style scoped>\n",
       "    .dataframe tbody tr th:only-of-type {\n",
       "        vertical-align: middle;\n",
       "    }\n",
       "\n",
       "    .dataframe tbody tr th {\n",
       "        vertical-align: top;\n",
       "    }\n",
       "\n",
       "    .dataframe thead th {\n",
       "        text-align: right;\n",
       "    }\n",
       "</style>\n",
       "<table border=\"1\" class=\"dataframe\">\n",
       "  <thead>\n",
       "    <tr style=\"text-align: right;\">\n",
       "      <th></th>\n",
       "      <th>count</th>\n",
       "    </tr>\n",
       "    <tr>\n",
       "      <th>talkspvs</th>\n",
       "      <th></th>\n",
       "    </tr>\n",
       "  </thead>\n",
       "  <tbody>\n",
       "    <tr>\n",
       "      <th>very</th>\n",
       "      <td>333</td>\n",
       "    </tr>\n",
       "    <tr>\n",
       "      <th>somewhat</th>\n",
       "      <td>259</td>\n",
       "    </tr>\n",
       "    <tr>\n",
       "      <th>extremely</th>\n",
       "      <td>165</td>\n",
       "    </tr>\n",
       "    <tr>\n",
       "      <th>not at all</th>\n",
       "      <td>127</td>\n",
       "    </tr>\n",
       "    <tr>\n",
       "      <th>a little</th>\n",
       "      <td>116</td>\n",
       "    </tr>\n",
       "  </tbody>\n",
       "</table>\n",
       "</div>"
      ],
      "text/plain": [
       "            count\n",
       "talkspvs         \n",
       "very          333\n",
       "somewhat      259\n",
       "extremely     165\n",
       "not at all    127\n",
       "a little      116"
      ]
     },
     "execution_count": 54,
     "metadata": {},
     "output_type": "execute_result"
    }
   ],
   "source": []
  },
  {
   "cell_type": "code",
   "execution_count": 57,
   "metadata": {},
   "outputs": [
    {
     "data": {
      "text/html": [
       "<div>\n",
       "<style scoped>\n",
       "    .dataframe tbody tr th:only-of-type {\n",
       "        vertical-align: middle;\n",
       "    }\n",
       "\n",
       "    .dataframe tbody tr th {\n",
       "        vertical-align: top;\n",
       "    }\n",
       "\n",
       "    .dataframe thead th {\n",
       "        text-align: right;\n",
       "    }\n",
       "</style>\n",
       "<table border=\"1\" class=\"dataframe\">\n",
       "  <thead>\n",
       "    <tr style=\"text-align: right;\">\n",
       "      <th></th>\n",
       "      <th>index</th>\n",
       "      <th>talkspvs</th>\n",
       "      <th>effctsup</th>\n",
       "    </tr>\n",
       "  </thead>\n",
       "  <tbody>\n",
       "    <tr>\n",
       "      <th>0</th>\n",
       "      <td>very</td>\n",
       "      <td>333</td>\n",
       "      <td>338</td>\n",
       "    </tr>\n",
       "    <tr>\n",
       "      <th>1</th>\n",
       "      <td>somewhat</td>\n",
       "      <td>259</td>\n",
       "      <td>287</td>\n",
       "    </tr>\n",
       "    <tr>\n",
       "      <th>2</th>\n",
       "      <td>extremely</td>\n",
       "      <td>165</td>\n",
       "      <td>125</td>\n",
       "    </tr>\n",
       "    <tr>\n",
       "      <th>3</th>\n",
       "      <td>not at all</td>\n",
       "      <td>127</td>\n",
       "      <td>92</td>\n",
       "    </tr>\n",
       "    <tr>\n",
       "      <th>4</th>\n",
       "      <td>a little</td>\n",
       "      <td>116</td>\n",
       "      <td>158</td>\n",
       "    </tr>\n",
       "  </tbody>\n",
       "</table>\n",
       "</div>"
      ],
      "text/plain": [
       "        index  talkspvs  effctsup\n",
       "0        very       333       338\n",
       "1    somewhat       259       287\n",
       "2   extremely       165       125\n",
       "3  not at all       127        92\n",
       "4    a little       116       158"
      ]
     },
     "execution_count": 57,
     "metadata": {},
     "output_type": "execute_result"
    }
   ],
   "source": [
    "#Join the DataFrames\n",
    "supervisorData = df1.join(df2, lsuffix='_df1', rsuffix='_df2').reset_index()\n",
    "supervisorData = supervisorData.rename(columns= {'talkspvs': 'index', 'count_df1': 'talkspvs', 'count_df2': 'effctsup'})\n",
    "supervisorData.head()\n"
   ]
  },
  {
   "cell_type": "code",
   "execution_count": 58,
   "metadata": {},
   "outputs": [],
   "source": [
    "#Melt the data in the combined DataFrame\n",
    "supervisorData = pd.melt(supervisorData, id_vars= 'index', \n",
    "                         value_vars= ['talkspvs', 'effctsup'])\n",
    "supervisorData.columns = ['answer', 'question', 'responseCount']"
   ]
  },
  {
   "cell_type": "code",
   "execution_count": 59,
   "metadata": {},
   "outputs": [
    {
     "data": {
      "text/html": [
       "<div>\n",
       "<style scoped>\n",
       "    .dataframe tbody tr th:only-of-type {\n",
       "        vertical-align: middle;\n",
       "    }\n",
       "\n",
       "    .dataframe tbody tr th {\n",
       "        vertical-align: top;\n",
       "    }\n",
       "\n",
       "    .dataframe thead th {\n",
       "        text-align: right;\n",
       "    }\n",
       "</style>\n",
       "<table border=\"1\" class=\"dataframe\">\n",
       "  <thead>\n",
       "    <tr style=\"text-align: right;\">\n",
       "      <th></th>\n",
       "      <th>answer</th>\n",
       "      <th>question</th>\n",
       "      <th>responseCount</th>\n",
       "    </tr>\n",
       "  </thead>\n",
       "  <tbody>\n",
       "    <tr>\n",
       "      <th>0</th>\n",
       "      <td>very</td>\n",
       "      <td>talkspvs</td>\n",
       "      <td>333</td>\n",
       "    </tr>\n",
       "    <tr>\n",
       "      <th>1</th>\n",
       "      <td>somewhat</td>\n",
       "      <td>talkspvs</td>\n",
       "      <td>259</td>\n",
       "    </tr>\n",
       "    <tr>\n",
       "      <th>2</th>\n",
       "      <td>extremely</td>\n",
       "      <td>talkspvs</td>\n",
       "      <td>165</td>\n",
       "    </tr>\n",
       "    <tr>\n",
       "      <th>3</th>\n",
       "      <td>not at all</td>\n",
       "      <td>talkspvs</td>\n",
       "      <td>127</td>\n",
       "    </tr>\n",
       "    <tr>\n",
       "      <th>4</th>\n",
       "      <td>a little</td>\n",
       "      <td>talkspvs</td>\n",
       "      <td>116</td>\n",
       "    </tr>\n",
       "  </tbody>\n",
       "</table>\n",
       "</div>"
      ],
      "text/plain": [
       "       answer  question  responseCount\n",
       "0        very  talkspvs            333\n",
       "1    somewhat  talkspvs            259\n",
       "2   extremely  talkspvs            165\n",
       "3  not at all  talkspvs            127\n",
       "4    a little  talkspvs            116"
      ]
     },
     "execution_count": 59,
     "metadata": {},
     "output_type": "execute_result"
    }
   ],
   "source": [
    "supervisorData.head()"
   ]
  },
  {
   "cell_type": "code",
   "execution_count": 60,
   "metadata": {},
   "outputs": [
    {
     "name": "stderr",
     "output_type": "stream",
     "text": [
      "/Library/Frameworks/Python.framework/Versions/3.11/lib/python3.11/site-packages/seaborn/axisgrid.py:118: UserWarning: The figure layout has changed to tight\n",
      "  self._figure.tight_layout(*args, **kwargs)\n"
     ]
    },
    {
     "data": {
      "image/png": "[encoded data removed]",
      "text/plain": [
       "<Figure size 1250x500 with 2 Axes>"
      ]
     },
     "metadata": {},
     "output_type": "display_data"
    }
   ],
   "source": [
    "#Plot the data for the questions\n",
    "g = sns.catplot(data = supervisorData, x= 'answer', y = 'responseCount',\n",
    "                kind = 'bar', col = 'question', aspect= 1.25, col_wrap= 2)\n",
    "\n",
    "titles = ['How comfortable are you talking with your supervisor?',\n",
    "          'How helpful is your supervisor at resolving work-life conflicts?']\n",
    "\n",
    "for i, ax in enumerate(g.axes.flat):\n",
    "    ax.tick_params('x', labelrotation = 45)\n",
    "    ax.set_title(titles[i])"
   ]
  },
  {
   "cell_type": "markdown",
   "metadata": {},
   "source": [
    "## Expand the scope of the analysis"
   ]
  },
  {
   "cell_type": "markdown",
   "metadata": {},
   "source": [
    "We will expand the scope of the analysis by combining survey data with demographic data like gender, race, and location."
   ]
  },
  {
   "cell_type": "code",
   "execution_count": 68,
   "metadata": {},
   "outputs": [
    {
     "ename": "ValueError",
     "evalue": "\nValue labels for column impthngs are not unique. These cannot be converted to\npandas categoricals.\n\nEither read the file with `convert_categoricals` set to False or use the\nlow level interface in `StataReader` to separately read the values and the\nvalue_labels.\n\nThe repeated labels are:\n--------------------------------------------------------------------------------\nstrongly disagree\n",
     "output_type": "error",
     "traceback": [
      "\u001b[0;31m---------------------------------------------------------------------------\u001b[0m",
      "\u001b[0;31mValueError\u001b[0m                                Traceback (most recent call last)",
      "File \u001b[0;32m/Library/Frameworks/Python.framework/Versions/3.11/lib/python3.11/site-packages/pandas/io/stata.py:1989\u001b[0m, in \u001b[0;36mStataReader._do_convert_categoricals\u001b[0;34m(self, data, value_label_dict, lbllist, order_categoricals)\u001b[0m\n\u001b[1;32m   1986\u001b[0m \u001b[39mtry\u001b[39;00m:\n\u001b[1;32m   1987\u001b[0m     \u001b[39m# Try to catch duplicate categories\u001b[39;00m\n\u001b[1;32m   1988\u001b[0m     \u001b[39m# TODO: if we get a non-copying rename_categories, use that\u001b[39;00m\n\u001b[0;32m-> 1989\u001b[0m     cat_data \u001b[39m=\u001b[39m cat_data\u001b[39m.\u001b[39;49mrename_categories(categories)\n\u001b[1;32m   1990\u001b[0m \u001b[39mexcept\u001b[39;00m \u001b[39mValueError\u001b[39;00m \u001b[39mas\u001b[39;00m err:\n",
      "File \u001b[0;32m/Library/Frameworks/Python.framework/Versions/3.11/lib/python3.11/site-packages/pandas/core/arrays/categorical.py:979\u001b[0m, in \u001b[0;36mCategorical.rename_categories\u001b[0;34m(self, new_categories)\u001b[0m\n\u001b[1;32m    978\u001b[0m cat \u001b[39m=\u001b[39m \u001b[39mself\u001b[39m\u001b[39m.\u001b[39mcopy()\n\u001b[0;32m--> 979\u001b[0m cat\u001b[39m.\u001b[39;49m_set_categories(new_categories)\n\u001b[1;32m    980\u001b[0m \u001b[39mreturn\u001b[39;00m cat\n",
      "File \u001b[0;32m/Library/Frameworks/Python.framework/Versions/3.11/lib/python3.11/site-packages/pandas/core/arrays/categorical.py:777\u001b[0m, in \u001b[0;36mCategorical._set_categories\u001b[0;34m(self, categories, fastpath)\u001b[0m\n\u001b[1;32m    776\u001b[0m \u001b[39melse\u001b[39;00m:\n\u001b[0;32m--> 777\u001b[0m     new_dtype \u001b[39m=\u001b[39m CategoricalDtype(categories, ordered\u001b[39m=\u001b[39;49m\u001b[39mself\u001b[39;49m\u001b[39m.\u001b[39;49mordered)\n\u001b[1;32m    778\u001b[0m \u001b[39mif\u001b[39;00m (\n\u001b[1;32m    779\u001b[0m     \u001b[39mnot\u001b[39;00m fastpath\n\u001b[1;32m    780\u001b[0m     \u001b[39mand\u001b[39;00m \u001b[39mself\u001b[39m\u001b[39m.\u001b[39mdtype\u001b[39m.\u001b[39mcategories \u001b[39mis\u001b[39;00m \u001b[39mnot\u001b[39;00m \u001b[39mNone\u001b[39;00m\n\u001b[1;32m    781\u001b[0m     \u001b[39mand\u001b[39;00m \u001b[39mlen\u001b[39m(new_dtype\u001b[39m.\u001b[39mcategories) \u001b[39m!=\u001b[39m \u001b[39mlen\u001b[39m(\u001b[39mself\u001b[39m\u001b[39m.\u001b[39mdtype\u001b[39m.\u001b[39mcategories)\n\u001b[1;32m    782\u001b[0m ):\n",
      "File \u001b[0;32m/Library/Frameworks/Python.framework/Versions/3.11/lib/python3.11/site-packages/pandas/core/dtypes/dtypes.py:187\u001b[0m, in \u001b[0;36mCategoricalDtype.__init__\u001b[0;34m(self, categories, ordered)\u001b[0m\n\u001b[1;32m    186\u001b[0m \u001b[39mdef\u001b[39;00m \u001b[39m__init__\u001b[39m(\u001b[39mself\u001b[39m, categories\u001b[39m=\u001b[39m\u001b[39mNone\u001b[39;00m, ordered: Ordered \u001b[39m=\u001b[39m \u001b[39mFalse\u001b[39;00m) \u001b[39m-\u001b[39m\u001b[39m>\u001b[39m \u001b[39mNone\u001b[39;00m:\n\u001b[0;32m--> 187\u001b[0m     \u001b[39mself\u001b[39;49m\u001b[39m.\u001b[39;49m_finalize(categories, ordered, fastpath\u001b[39m=\u001b[39;49m\u001b[39mFalse\u001b[39;49;00m)\n",
      "File \u001b[0;32m/Library/Frameworks/Python.framework/Versions/3.11/lib/python3.11/site-packages/pandas/core/dtypes/dtypes.py:344\u001b[0m, in \u001b[0;36mCategoricalDtype._finalize\u001b[0;34m(self, categories, ordered, fastpath)\u001b[0m\n\u001b[1;32m    343\u001b[0m \u001b[39mif\u001b[39;00m categories \u001b[39mis\u001b[39;00m \u001b[39mnot\u001b[39;00m \u001b[39mNone\u001b[39;00m:\n\u001b[0;32m--> 344\u001b[0m     categories \u001b[39m=\u001b[39m \u001b[39mself\u001b[39;49m\u001b[39m.\u001b[39;49mvalidate_categories(categories, fastpath\u001b[39m=\u001b[39;49mfastpath)\n\u001b[1;32m    346\u001b[0m \u001b[39mself\u001b[39m\u001b[39m.\u001b[39m_categories \u001b[39m=\u001b[39m categories\n",
      "File \u001b[0;32m/Library/Frameworks/Python.framework/Versions/3.11/lib/python3.11/site-packages/pandas/core/dtypes/dtypes.py:540\u001b[0m, in \u001b[0;36mCategoricalDtype.validate_categories\u001b[0;34m(categories, fastpath)\u001b[0m\n\u001b[1;32m    539\u001b[0m     \u001b[39mif\u001b[39;00m \u001b[39mnot\u001b[39;00m categories\u001b[39m.\u001b[39mis_unique:\n\u001b[0;32m--> 540\u001b[0m         \u001b[39mraise\u001b[39;00m \u001b[39mValueError\u001b[39;00m(\u001b[39m\"\u001b[39m\u001b[39mCategorical categories must be unique\u001b[39m\u001b[39m\"\u001b[39m)\n\u001b[1;32m    542\u001b[0m \u001b[39mif\u001b[39;00m \u001b[39misinstance\u001b[39m(categories, ABCCategoricalIndex):\n",
      "\u001b[0;31mValueError\u001b[0m: Categorical categories must be unique",
      "\nThe above exception was the direct cause of the following exception:\n",
      "\u001b[0;31mValueError\u001b[0m                                Traceback (most recent call last)",
      "Cell \u001b[0;32mIn[68], line 2\u001b[0m\n\u001b[1;32m      1\u001b[0m \u001b[39m#Read the entire dataset and find the columns with no missing values\u001b[39;00m\n\u001b[0;32m----> 2\u001b[0m allData \u001b[39m=\u001b[39m pd\u001b[39m.\u001b[39;49mread_stata(\u001b[39m'\u001b[39;49m\u001b[39mGSS7218_R3.DTA\u001b[39;49m\u001b[39m'\u001b[39;49m)\n",
      "File \u001b[0;32m/Library/Frameworks/Python.framework/Versions/3.11/lib/python3.11/site-packages/pandas/io/stata.py:2090\u001b[0m, in \u001b[0;36mread_stata\u001b[0;34m(filepath_or_buffer, convert_dates, convert_categoricals, index_col, convert_missing, preserve_dtypes, columns, order_categoricals, chunksize, iterator, compression, storage_options)\u001b[0m\n\u001b[1;32m   2087\u001b[0m     \u001b[39mreturn\u001b[39;00m reader\n\u001b[1;32m   2089\u001b[0m \u001b[39mwith\u001b[39;00m reader:\n\u001b[0;32m-> 2090\u001b[0m     \u001b[39mreturn\u001b[39;00m reader\u001b[39m.\u001b[39;49mread()\n",
      "File \u001b[0;32m/Library/Frameworks/Python.framework/Versions/3.11/lib/python3.11/site-packages/pandas/io/stata.py:1821\u001b[0m, in \u001b[0;36mStataReader.read\u001b[0;34m(self, nrows, convert_dates, convert_categoricals, index_col, convert_missing, preserve_dtypes, columns, order_categoricals)\u001b[0m\n\u001b[1;32m   1816\u001b[0m         data[col] \u001b[39m=\u001b[39m _stata_elapsed_date_to_datetime_vec(\n\u001b[1;32m   1817\u001b[0m             data[col], \u001b[39mself\u001b[39m\u001b[39m.\u001b[39m_fmtlist[i]\n\u001b[1;32m   1818\u001b[0m         )\n\u001b[1;32m   1820\u001b[0m \u001b[39mif\u001b[39;00m convert_categoricals \u001b[39mand\u001b[39;00m \u001b[39mself\u001b[39m\u001b[39m.\u001b[39m_format_version \u001b[39m>\u001b[39m \u001b[39m108\u001b[39m:\n\u001b[0;32m-> 1821\u001b[0m     data \u001b[39m=\u001b[39m \u001b[39mself\u001b[39;49m\u001b[39m.\u001b[39;49m_do_convert_categoricals(\n\u001b[1;32m   1822\u001b[0m         data, \u001b[39mself\u001b[39;49m\u001b[39m.\u001b[39;49m_value_label_dict, \u001b[39mself\u001b[39;49m\u001b[39m.\u001b[39;49m_lbllist, order_categoricals\n\u001b[1;32m   1823\u001b[0m     )\n\u001b[1;32m   1825\u001b[0m \u001b[39mif\u001b[39;00m \u001b[39mnot\u001b[39;00m preserve_dtypes:\n\u001b[1;32m   1826\u001b[0m     retyped_data \u001b[39m=\u001b[39m []\n",
      "File \u001b[0;32m/Library/Frameworks/Python.framework/Versions/3.11/lib/python3.11/site-packages/pandas/io/stata.py:2006\u001b[0m, in \u001b[0;36mStataReader._do_convert_categoricals\u001b[0;34m(self, data, value_label_dict, lbllist, order_categoricals)\u001b[0m\n\u001b[1;32m   1994\u001b[0m                     \u001b[39m# GH 25772\u001b[39;00m\n\u001b[1;32m   1995\u001b[0m                     msg \u001b[39m=\u001b[39m \u001b[39mf\u001b[39m\u001b[39m\"\"\"\u001b[39m\n\u001b[1;32m   1996\u001b[0m \u001b[39mValue labels for column \u001b[39m\u001b[39m{\u001b[39;00mcol\u001b[39m}\u001b[39;00m\u001b[39m are not unique. These cannot be converted to\u001b[39m\n\u001b[1;32m   1997\u001b[0m \u001b[39mpandas categoricals.\u001b[39m\n\u001b[0;32m   (...)\u001b[0m\n\u001b[1;32m   2004\u001b[0m \u001b[39m{\u001b[39;00mrepeats\u001b[39m}\u001b[39;00m\n\u001b[1;32m   2005\u001b[0m \u001b[39m\"\"\"\u001b[39m\n\u001b[0;32m-> 2006\u001b[0m                     \u001b[39mraise\u001b[39;00m \u001b[39mValueError\u001b[39;00m(msg) \u001b[39mfrom\u001b[39;00m \u001b[39merr\u001b[39;00m\n\u001b[1;32m   2007\u001b[0m                 \u001b[39m# TODO: is the next line needed above in the data(...) method?\u001b[39;00m\n\u001b[1;32m   2008\u001b[0m                 cat_series \u001b[39m=\u001b[39m Series(cat_data, index\u001b[39m=\u001b[39mdata\u001b[39m.\u001b[39mindex, copy\u001b[39m=\u001b[39m\u001b[39mFalse\u001b[39;00m)\n",
      "\u001b[0;31mValueError\u001b[0m: \nValue labels for column impthngs are not unique. These cannot be converted to\npandas categoricals.\n\nEither read the file with `convert_categoricals` set to False or use the\nlow level interface in `StataReader` to separately read the values and the\nvalue_labels.\n\nThe repeated labels are:\n--------------------------------------------------------------------------------\nstrongly disagree\n"
     ]
    }
   ],
   "source": [
    "#Read the entire dataset and find the columns with no missing values\n",
    "allData = pd.read_stata('GSS7218_R3.DTA')"
   ]
  },
  {
   "cell_type": "code",
   "execution_count": null,
   "metadata": {},
   "outputs": [],
   "source": []
  }
 ],
 "metadata": {
  "kernelspec": {
   "display_name": "base",
   "language": "python",
   "name": "python3"
  },
  "language_info": {
   "codemirror_mode": {
    "name": "ipython",
    "version": 3
   },
   "file_extension": ".py",
   "mimetype": "text/x-python",
   "name": "python",
   "nbconvert_exporter": "python",
   "pygments_lexer": "ipython3",
   "version": "3.11.3"
  },
  "orig_nbformat": 4
 },
 "nbformat": 4,
 "nbformat_minor": 2
}
